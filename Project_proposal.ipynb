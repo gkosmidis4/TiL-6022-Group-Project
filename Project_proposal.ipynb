{
 "cells": [
  {
   "cell_type": "markdown",
   "id": "268ef89e",
   "metadata": {},
   "source": [
    "# Car vs. Train Travel to Delft: Comparative Study"
   ]
  },
  {
   "cell_type": "markdown",
   "id": "98a59ee2",
   "metadata": {},
   "source": [
    "## 1. Motivation\n",
    "In response to the question: For students without access to free public transportation, is it worthwhile to purchase and use a car for commuting to Delft"
   ]
  },
  {
   "cell_type": "markdown",
   "id": "53c38c7e",
   "metadata": {},
   "source": [
    "## 2. Objectives\n",
    "Attributes of cost and time per modality.\n",
    "Comparison of different aspects for these attributes, such as which option is more cost-effective, which option is more time efficient, at what distance or commuting threshold from Delft does train travel become a more advantageous alternative than car ownership?"
   ]
  },
  {
   "cell_type": "markdown",
   "id": "6311f502",
   "metadata": {},
   "source": [
    "## 3. Research Questions\n",
    "How do travel costs and travel times compare between private car use and train travel for trips from the main Dutch cities to Delft?\" (during weekday peakhours?)"
   ]
  },
  {
   "cell_type": "markdown",
   "id": "07b8d04c",
   "metadata": {},
   "source": [
    "## 4. Preconditions\n",
    "### Car Travel\n",
    "Cost factors > insurance average per city for 21years old driver, pump price, government road tax\n",
    "\n",
    "Time factors > Peak hours, 35% extra time on congestions, direct travel times through google maps (optimal travel road using highways only).\n",
    "\n",
    "### Train Travel\n",
    "Cost factors > 2nd class without any subscriptions, assumptions that everyone gets to the station by bicycle.\n",
    "\n",
    "Time factors > peak NS hours, direct travel time + disruptions, distance inbetween central train stations.\n",
    "\n",
    "### Other Preconditions\n",
    "One typical car model for students (i.e Toyota Aygo)"
   ]
  },
  {
   "cell_type": "markdown",
   "id": "08db06c8",
   "metadata": {},
   "source": [
    "## 5. Cities & Distances\n",
    "Highway Driving Distances to Delft\n",
    "\n",
    "Estimated highway driving distances (km) and typical motorway routes from major Dutch cities to Delft.\n",
    "\n",
    "| City                    | Distance (km) | Typical Highway Route                       |\n",
    "|-------------------------|---------------|---------------------------------------------|\n",
    "| Amsterdam               | 64            | A13 → A4 → A10                              |\n",
    "| Rotterdam               | 16            | A13                                         |\n",
    "| The Hague (Den Haag)    | 12            | A13 → A4                                    |\n",
    "| Utrecht                 | 60            | A12                                         |\n",
    "| Eindhoven               | 125           | A13 → A4/A12 → A2                           |\n",
    "| Tilburg                 | 95            | A13 → A16 → A59                             |\n",
    "| Almere                  | 97            | A13 → A4 → A10 → A1 → A6                    |\n",
    "| Groningen               | 235           | A13 → A4 → A10 → A7                         |\n",
    "| Breda                   | 68            | A13 → A16                                   |\n",
    "| Nijmegen                | 120           | A13 → A15 → A50                             |\n",
    "| Leeuwarden              | 200           | A13 → A4 → A10 → A7 → N31/A31               |\n",
    "| Maastricht              | 205           | A13 → A16 → A15 → A73 → A2                  |\n",
    "\n"
   ]
  },
  {
   "cell_type": "markdown",
   "id": "cc48524f",
   "metadata": {},
   "source": [
    "## 6. Datasets\n",
    "Text"
   ]
  },
  {
   "cell_type": "markdown",
   "id": "7ffc9154",
   "metadata": {},
   "source": [
    "## 7. Data Analysis Pipeline\n",
    "### Cars\n",
    "List\n",
    "### Trains\n",
    "List\n",
    "### Comparison\n",
    "List"
   ]
  },
  {
   "cell_type": "markdown",
   "id": "c1159a02",
   "metadata": {},
   "source": [
    "## 8. Geographical and Temporal Scale\n",
    "Text"
   ]
  }
 ],
 "metadata": {
  "kernelspec": {
   "display_name": "TIL6022-25",
   "language": "python",
   "name": "python3"
  },
  "language_info": {
   "codemirror_mode": {
    "name": "ipython",
    "version": 3
   },
   "file_extension": ".py",
   "mimetype": "text/x-python",
   "name": "python",
   "nbconvert_exporter": "python",
   "pygments_lexer": "ipython3",
   "version": "3.12.11"
  }
 },
 "nbformat": 4,
 "nbformat_minor": 5
}
