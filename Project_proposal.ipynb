{
 "cells": [
  {
   "cell_type": "markdown",
   "id": "268ef89e",
   "metadata": {},
   "source": [
    "# Car vs. Train Travel to Delft: Comparative Study"
   ]
  },
  {
   "cell_type": "markdown",
   "id": "98a59ee2",
   "metadata": {},
   "source": [
    "## 1. Motivation\n",
    "In response to the question: For students without access to free public transportation, is it worthwhile to purchase and use a car for commuting to Delft?"
   ]
  },
  {
   "cell_type": "markdown",
   "id": "53c38c7e",
   "metadata": {},
   "source": [
    "## 2. Objectives\n",
    "The objectives of this study are to:\n",
    "- Quantify and compare the costs of commuting to Delft by car and by train. \n",
    "- Quantify and compare the travel times of these two modalities, including the influence of peak-hours.\n",
    "- Identify the commuting threshold at which train travel becomes more cost-effective or time-efficient than car ownership.  \n",
    "- Provide insights that help students make an informed decision regarding the choice between car and train for commuting to Delft."
   ]
  },
  {
   "cell_type": "markdown",
   "id": "6311f502",
   "metadata": {},
   "source": [
    "## 3. Research Questions\n",
    "\n",
    "**Main Research Question**  \n",
    "- How do travel costs and travel times compare between private car use and train travel for commuting from major Dutch cities to Delft during weekday peak hours?  \n",
    "\n",
    "**Sub-questions**  \n",
    "1. What are the main cost components of commuting by car and by train, and how do these compare?  \n",
    "2. How does travel time differ between car and train, taking into account peak-hour road congestion as well as train schedules, delays, and service disruptions?  \n",
    "3. At what commuting distance or threshold does train travel become more cost-effective than car ownership?  \n",
    "4. How do variations in fuel price, road tax, or train ticket price affect the comparative outcomes?  "
   ]
  },
  {
   "cell_type": "markdown",
   "id": "07b8d04c",
   "metadata": {},
   "source": [
    "## 4. Preconditions\n",
    "### 4.1 Car Travel\n",
    "**Cost factors**  \n",
    "- Average car insurance costs for a 21-year-old driver, differentiated per city.  \n",
    "- Fuel expenses based on current pump prices.  \n",
    "- Government road tax applicable to car ownership and use.  \n",
    "\n",
    "**Time factors**  \n",
    "- Travel times based on Google Maps estimates for the most efficient highway routes.  \n",
    "- A congestion correction factor of +35% is applied during peak hours to account for traffic delays.  \n",
    "\n",
    "### 4.2 Train Travel\n",
    "**Cost factors**  \n",
    "- Standard second-class ticket prices, without any discount subscriptions.  \n",
    "- Assumption that all travelers reach the departure station by bicycle, with no additional costs included for first/last mile transport.  \n",
    "\n",
    "**Time factors**  \n",
    "- Travel times based on NS schedules during peak hours.  \n",
    "- Additional delays due to potential disruptions or train service irregularities are considered.  \n",
    "- Measured travel times are taken between central stations of the selected cities and Delft. \n",
    "\n",
    "### 4.3 Other Preconditions\n",
    "- A single representative car model is used for all calculations: a Toyota Aygo, as this is a common and affordable choice for students.  "
   ]
  },
  {
   "cell_type": "markdown",
   "id": "08db06c8",
   "metadata": {},
   "source": [
    "## 5. Cities & Distances\n",
    "The table below provides the estimated highway driving distances (in kilometers) and the typical motorway routes, as derived from Google Maps. These distances serve as the basis for comparing travel costs and times between car and train.  \n",
    "\n",
    "| City        | Distance (km) | Typical Highway Route                        |\n",
    "|-------------|---------------|----------------------------------------------|\n",
    "| Amsterdam   | 67            | A10 → A4 → A13                               |\n",
    "| Rotterdam   | 13            | A13                                          |\n",
    "| The Hague   | 12            | A4 → A13                                     |\n",
    "| Utrecht     | 67            | A12 → A4 → A13                               |\n",
    "| Eindhoven   | 130           | A2 → A58 → A16 → A20 → A13                   |\n",
    "| Tilburg     | 99            | A58 → A16 → A20 → A13                        |\n",
    "| Almere      | 92            | A6 → A1 → A9 → A2 → A10 → A4 → A13           |\n",
    "| Groningen   | 237           | A7 → A6 → A1 → A9 → A2 → A10 → A4 → A13      |\n",
    "| Breda       | 64            | A16 → A20 → A13                              |\n",
    "| Nijmegen    | 129           | N325 → A15 → A16 → A20 → A13                 |\n",
    "| Leeuwarden  | 195           | A31 → N31 → A7 → A8 → A10 → A5 → A4 → A13    |\n",
    "| Maastricht  | 213           | A2 → A58 → A16 → A20 → A13                   |\n"
   ]
  },
  {
   "cell_type": "markdown",
   "id": "cc48524f",
   "metadata": {},
   "source": [
    "## 6. Datasets\n",
    "\n",
    "- Train disruptions: [Rijden de Treinen Open Data](https://www.rijdendetreinen.nl/en/open-data)  \n",
    "- Pump price (daily, from 2006): [CBS](https://www.cbs.nl/nl-nl/cijfers/detail/80416ned)  \n",
    "- NS routes and stations: [NS API Developer Portal](https://apiportal.ns.nl/)  \n",
    "\n",
    "**Other useful sources**:\n",
    "\n",
    "- Government Road tax: [Motorrijtuigenbelasting | Belastingdienst](https://www.belastingdienst.nl/wps/wcm/connect/bldcontentnl/belastingdienst/prive/auto_en_vervoer/belastingen_op_auto_en_motor/motorrijtuigenbelasting/)\n",
    "- Insurance costs: [Geld.nl Datamonitor](https://www.geld.nl/autoverzekering/service/datamonitor-autoverzekering)  \n",
    "- Time and Distance data: [Google Maps](maps.google.com)\n",
    "- Train Cost: [NS website](www.ns.nl)\n",
    "- Distances between train stations: [Rijden de Treinen Tariefafstanden](https://www.rijdendetreinen.nl/open-data/tariefafstanden)\n"
   ]
  },
  {
   "cell_type": "markdown",
   "id": "7ffc9154",
   "metadata": {},
   "source": [
    "## 7. Data Analysis Pipeline\n",
    "### 7.1 Cars\n",
    "1. Read travel time data from sheet to Delft per city (collected from Google Maps).  \n",
    "2. Compute adjusted travel time including delays to Delft per city.  \n",
    "3. Read travel cost data from sheet (4 constant sheets + 1 variable sheet for gasoline prices).  \n",
    "4. Combine travel time and cost for each city.  \n",
    "5. Plot graphs per city: Car travel (cost vs time).  \n",
    "\n",
    "### 7.2 Trains\n",
    "1. Read travel time data per train station to Delft from sheet.  \n",
    "2. Compute adjusted travel time including delays to Delft per city.  \n",
    "3. Read travel cost data per train station to Delft.  \n",
    "4. Combine travel time and cost for each city.  \n",
    "5. Plot graphs per city: Train travel (cost vs time).  \n",
    "\n",
    "### 7.3 Comparison\n",
    "1. Create a general datasheet from all the different data sheets.  \n",
    "2. Compare datasets: Which option is faster and/or cheaper per city?  \n",
    "3. Analyze trade-offs Express one variable in terms of another (e.g., how does time translate into money and would that impact your choice?).  \n"
   ]
  },
  {
   "cell_type": "markdown",
   "id": "c1159a02",
   "metadata": {},
   "source": [
    "## 8. Geographical and Temporal Scale\n",
    "### Geographical scale\n",
    "This study focuses on trips to Delft originating from the twelve largest cities in the Netherlands, selected on the basis of population size.\n",
    "These cities included are Amsterdam, Rotterdam, The Hague, Utrecht, Eindhoven, Groningen, Tilburg, Almere, Breda, Nijmegen, Leeuwarden and Maastricht, chosen to ensure both representativeness of the Dutch urban system and geographical diversity across the country.\n",
    "\n",
    "### Temporal Scale\n",
    "The analysis focuses on on weekday midday peakhours (4pm-6pm) using 2024 data."
   ]
  }
 ],
 "metadata": {
  "kernelspec": {
   "display_name": "TIL6022-25",
   "language": "python",
   "name": "python3"
  },
  "language_info": {
   "codemirror_mode": {
    "name": "ipython",
    "version": 3
   },
   "file_extension": ".py",
   "mimetype": "text/x-python",
   "name": "python",
   "nbconvert_exporter": "python",
   "pygments_lexer": "ipython3",
   "version": "3.12.11"
  }
 },
 "nbformat": 4,
 "nbformat_minor": 5
}
