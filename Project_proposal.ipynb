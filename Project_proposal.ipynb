{
 "cells": [
  {
   "cell_type": "markdown",
   "id": "268ef89e",
   "metadata": {},
   "source": [
    "# Car vs. Train Travel to Delft: Comparative Study"
   ]
  },
  {
   "cell_type": "markdown",
   "id": "98a59ee2",
   "metadata": {},
   "source": [
    "## 1. Motivation\n",
    "In response to the question: For students without access to free public transportation, is it worthwhile to purchase and use a car for commuting to Delft?"
   ]
  },
  {
   "cell_type": "markdown",
   "id": "53c38c7e",
   "metadata": {},
   "source": [
    "## 2. Objectives\n",
    "The objectives of this study are to:\n",
    "- Quantify and compare the costs of commuting to Delft by car and by train. \n",
    "- Quantify and compare the travel times of these two modalities, including the influence of peak-hours.\n",
    "- Identify the commuting threshold at which train travel becomes more cost-effective or time-efficient than car ownership.  \n",
    "- Provide insights that help students make an informed decision regarding the choice between car and train for commuting to Delft."
   ]
  },
  {
   "cell_type": "markdown",
   "id": "6311f502",
   "metadata": {},
   "source": [
    "## 3. Research Questions\n",
    "\n",
    "**Main Research Question**  \n",
    "- How do travel costs and travel times compare between private car use and train travel for commuting from major Dutch cities to Delft during weekday peak hours?  \n",
    "\n",
    "**Sub-questions**  \n",
    "1. What are the main cost components of commuting by car and by train, and how do these compare per month?  \n",
    "2. At what commuting distance or threshold does train travel become more cost-effective than car ownership?  \n",
    "3. How does travel time differ between car and train, taking into account peak-hour road congestion as well as train schedules, delays, and service disruptions?     \n",
    "4. How do variations in fuel price, road tax, or train ticket price affect the comparative outcomes?   "
   ]
  },
  {
   "cell_type": "markdown",
   "id": "fe7d8b57",
   "metadata": {},
   "source": [
    "## 4. Possible DataSets and Data gathering process\n",
    "To start the research, first correct data sources have to be found which can be used to asses our questions. The first step is to find as many sources as possible and see if there even are data sources which support our object. Below a list can be found of data sources related to our subject.\n",
    "\n",
    "### 4.1 Usefull datasources\n",
    "- Train disruptions: [Rijden de Treinen Open Data](https://www.rijdendetreinen.nl/en/open-data)  \n",
    "- Pump price (daily, from 2006): [CBS](https://www.cbs.nl/nl-nl/cijfers/detail/80416ned)  \n",
    "- NS routes and stations: [NS API Developer Portal](https://apiportal.ns.nl/) \n",
    "- Possible typical cars for students: [marktplaats] (https://wwww.marktplaats.nl) \n",
    "\n",
    "**Other useful sources**:\n",
    "\n",
    "- Government Road tax: [Motorrijtuigenbelasting | Belastingdienst](https://www.belastingdienst.nl/wps/wcm/connect/bldcontentnl/belastingdienst/prive/auto_en_vervoer/belastingen_op_auto_en_motor/motorrijtuigenbelasting/)\n",
    "- Insurance costs: [Geld.nl Datamonitor](https://www.geld.nl/autoverzekering/service/datamonitor-autoverzekering)  \n",
    "- Time and Distance data: [Google Maps](maps.google.com)\n",
    "- Distances between cities: [CBS] (https://www.cbs.nl/nl-nl/maatwerk/2019/27/matrix-afstanden-over-de-weg-woonkernen-2017) \n",
    "- Train Cost: [NS website](www.ns.nl)\n",
    "- Distances between train stations: [Rijden de Treinen Tariefafstanden](https://www.rijdendetreinen.nl/open-data/tariefafstanden)\n",
    "\n",
    "### 4.2 Data collection process\n",
    "The second step is to asses wheather these datasets are usefull and if they are able to be extruded for our goals:\n",
    "-✅ If so, the data set will be integrated in our data folder to use in our analysis . \n",
    "- ❌ If the data is not usefull because the data is not applicable to our problem OR if we're not able to read the data because the data is to difficult to read OR requires high-level understanding of out-of-scope coding OR the data is simply not available in an online data set, THEN we'll manually extrude the data into csv files.\n",
    "\n",
    "#### 4.2.1 Car information\n",
    "-For the Car information a typical student car has been chosen, a Toyota Aygo from 2013. For\n",
    "\n",
    "#### 4.2.2 Car time & distance\n",
    "JULIAN PLEASE EXPLAIN HOW YOU EXTRUDED THE DATASETS FROM THAT API HERE\n",
    "#### 4.2.3 Car cost\n",
    "JULIAN PLEASE EXPLAIN HOW YOU EXTRUDED THE DATASETS FROM THAT API HERE\n",
    "#### 4.2.3 Train time\n",
    "\n",
    "#### 4.2.3 Train cost\n",
    "\n",
    "### 4.3 Final gathered Datasheets\n",
    "1. Car information sheet (Excel and .csv)\n",
    "2. Car roadtax and insurance sheet (Excel and .csv)\n",
    "3. Distances between cities \"groeikernen?\", from which we extract to Delft (.csv)\n",
    "4. Traveltime between cities \"groeikernen\", from which we extract to delft (.csv)\n",
    "5. Pumpprices in euro on certain dates (.csv)\n",
    "6. Train distances, prices and travel time to Delft (.csv)\n"
   ]
  },
  {
   "cell_type": "markdown",
   "id": "029b796b",
   "metadata": {},
   "source": [
    "## 5. Cities & Distances\n",
    "The table below provides the estimated highway driving distances (in kilometers) and the typical motorway routes, as derived from Google Maps. These distances serve as the basis for comparing travel costs and times between car and train.  \n",
    "\n",
    "| City        | Distance (km) | Typical Highway Route                        |\n",
    "|-------------|---------------|----------------------------------------------|\n",
    "| Amsterdam   | 67            | A10 → A4 → A13                               |\n",
    "| Rotterdam   | 13            | A13                                          |\n",
    "| The Hague   | 12            | A4 → A13                                     |\n",
    "| Utrecht     | 67            | A12 → A4 → A13                               |\n",
    "| Eindhoven   | 130           | A2 → A58 → A16 → A20 → A13                   |\n",
    "| Tilburg     | 99            | A58 → A16 → A20 → A13                        |\n",
    "| Almere      | 92            | A6 → A1 → A9 → A2 → A10 → A4 → A13           |\n",
    "| Groningen   | 237           | A7 → A6 → A1 → A9 → A2 → A10 → A4 → A13      |\n",
    "| Breda       | 64            | A16 → A20 → A13                              |\n",
    "| Nijmegen    | 129           | N325 → A15 → A16 → A20 → A13                 |\n",
    "| Leeuwarden  | 195           | A31 → N31 → A7 → A8 → A10 → A5 → A4 → A13    |\n",
    "| Maastricht  | 213           | A2 → A58 → A16 → A20 → A13                   |\n"
   ]
  },
  {
   "cell_type": "markdown",
   "id": "07b8d04c",
   "metadata": {},
   "source": [
    "## 6. Basic pre-conditions\n",
    "### 6.1 General pre-conditions\n",
    "- 21 year old student\n",
    "- Goes 5 days a week to the TU Delft. Average of 4,5 weeks in a month, thus the students travels 23 times a month to the TU Delft.\n",
    "- \n",
    "\n",
    "### 6.2 Car Travel\n",
    "**Cost factors**\n",
    "- The student posesses a 2013 Toyota Aygo, a datasheet has been created from an open advert on \"Marktplaats.nl\"    \n",
    "- Average car insurance costs for a 21-year-old driver with 0 damage free years, differentiated per city per month.\n",
    "- Average car maintenance costs for a 2013 Toyota Aygo per month.  \n",
    "- Average national fuel expenses based on current pump prices.\n",
    "- Average parking cost per city centre per month.\n",
    "- Car parking is free at the TU Delft.  \n",
    "- Government road tax applicable to each city (regulated per province).\n",
    "\n",
    "**Time & distance factors**  \n",
    "- Travel times based on extracting the data from SOMETHING PYTHON JULIAN, PLEASE EXPLAIN HERE WHAT BOUNDRARY/PRECONDITIONS FOLLOW FROM USING THAT API\n",
    "- Distance based on extracting the data OMETHING PYTHON JULIAN, PLEASE EXPLAIN HERE WHAT BOUNDRARY/PRECONDITIONS FOLLOW FROM USING THAT API\n",
    "- The average distance is taken from the extracted data TO and FROM Delft\n",
    "- A congestion correction factor of x% is taken (+35% to start) and applied during peak hours to account for traffic. delays.  \n",
    "\n",
    "### 6.3 Train Travel\n",
    "**Cost factors**  \n",
    "- The student does not posses the general Dutch free-public-transport subscription for students. \n",
    "- Standard second-class ticket prices, without any discount subscriptions. The discount subscription can be added as a factor later.\n",
    "- Assumption that all travelers reach the departure station by bicycle, as an additional cost factor a bike subscription can be taken. SwapFiets can be taken as an example, which is 17,90 euro per month.\n",
    "\n",
    "**Time factors**  \n",
    "- 10 minutes are added to the travel time by train to simulate the bike travel from Delft station to the TU Delft.\n",
    "- Travel times based on NS schedules during peak hours.  \n",
    "- Additional delays due to potential disruptions or train service irregularities are considered as a added percentage to the travel time (10% to start).  \n",
    "- Measured travel times are taken between central stations of the selected cities and Delft. \n",
    "\n",
    "  "
   ]
  },
  {
   "cell_type": "markdown",
   "id": "7ffc9154",
   "metadata": {},
   "source": [
    "## 7. Data Analysis Pipeline\n",
    "### 7.1 Cars\n",
    "1. Read travel time data from sheet to Delft per city (collected from Google Maps).  \n",
    "2. Compute adjusted travel time including delays to Delft per city.  \n",
    "3. Read travel cost data from sheet (4 constant sheets + 1 variable sheet for gasoline prices).  \n",
    "4. Combine travel time and cost for each city.  \n",
    "5. Plot graphs per city: Car travel (cost vs time).  \n",
    "\n",
    "### 7.2 Trains\n",
    "1. Read travel time data per train station to Delft from sheet.  \n",
    "2. Compute adjusted travel time including delays to Delft per city.  \n",
    "3. Read travel cost data per train station to Delft.  \n",
    "4. Combine travel time and cost for each city.  \n",
    "5. Plot graphs per city: Train travel (cost vs time).  \n",
    "\n",
    "### 7.3 Comparison\n",
    "1. Create a general datasheet from all the different data sheets.  \n",
    "2. Compare datasets: Which option is faster and/or cheaper per city?  \n",
    "3. Analyze trade-offs Express one variable in terms of another (e.g., how does time translate into money and would that impact your choice?).  \n"
   ]
  },
  {
   "cell_type": "markdown",
   "id": "c1159a02",
   "metadata": {},
   "source": [
    "## 8. Geographical and Temporal Scale\n",
    "### Geographical scale\n",
    "This study focuses on trips to Delft originating from the twelve largest cities in the Netherlands, selected on the basis of population size.\n",
    "These cities included are Amsterdam, Rotterdam, The Hague, Utrecht, Eindhoven, Groningen, Tilburg, Almere, Breda, Nijmegen, Leeuwarden and Maastricht, chosen to ensure both representativeness of the Dutch urban system and geographical diversity across the country.\n",
    "\n",
    "### Temporal Scale\n",
    "The analysis focuses on on weekday midday peakhours (4pm-6pm) using 2024 data.\n"
   ]
  },
  {
   "cell_type": "code",
   "execution_count": 5,
   "id": "a5085a75",
   "metadata": {},
   "outputs": [
    {
     "ename": "SyntaxError",
     "evalue": "invalid syntax (3597461239.py, line 1)",
     "output_type": "error",
     "traceback": [
      "  \u001b[36mCell\u001b[39m\u001b[36m \u001b[39m\u001b[32mIn[5]\u001b[39m\u001b[32m, line 1\u001b[39m\n\u001b[31m    \u001b[39m\u001b[31mCarcorst formula (euro per month):\u001b[39m\n             ^\n\u001b[31mSyntaxError\u001b[39m\u001b[31m:\u001b[39m invalid syntax\n"
     ]
    }
   ],
   "source": [
    "Carcorst formula (euro per month):\n",
    "[[PumpPrice]*[Consumption_Liter/km*[DistanceToDelftKM]*[2]]*[TraveFrequenceyDelft/month(23)]]+[InsurancePerMonth]+[MaintenancePerMonth]+[ParkingCostPerMonthPerCity]\n",
    "\n",
    "CarTime formula (minutes per month):\n",
    "[TakeCarTimeFromMatrix]*[2]*[DelayFactor]*[month(23)]\n",
    "\n",
    "Traincost formula:\n",
    "[Read from the traincosts sheet]+[cost per month bike]\n",
    "\n",
    "Traintime formula (minutes per month):\n",
    "([TakeTrainTimeFromMatrix]*[DelayFactor]+[10 minutes])*2*[month(23)]\n",
    "\n"
   ]
  },
  {
   "cell_type": "markdown",
   "id": "61f54874",
   "metadata": {},
   "source": [
    "Graphs for presentation:\n",
    "- Train/time/distance\n",
    "- Car/time/distance\n",
    "- car time vs train time\n",
    "- car cost vs train cost\n",
    "\n",
    "Graphs for report:\n",
    "- one total graph with all cost and all time for both modalities\n",
    "- influence of some peak factors for train/car\n",
    "- how do certain cost factors influence decisions (40% discount or student free)"
   ]
  }
 ],
 "metadata": {
  "kernelspec": {
   "display_name": "TIL6022-25",
   "language": "python",
   "name": "python3"
  },
  "language_info": {
   "codemirror_mode": {
    "name": "ipython",
    "version": 3
   },
   "file_extension": ".py",
   "mimetype": "text/x-python",
   "name": "python",
   "nbconvert_exporter": "python",
   "pygments_lexer": "ipython3",
   "version": "3.13.5"
  }
 },
 "nbformat": 4,
 "nbformat_minor": 5
}
