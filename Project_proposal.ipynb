{
 "cells": [
  {
   "cell_type": "markdown",
   "id": "268ef89e",
   "metadata": {},
   "source": [
    "# Car vs. Train Travel to Delft: Comparative Study"
   ]
  },
  {
   "cell_type": "markdown",
   "id": "98a59ee2",
   "metadata": {},
   "source": [
    "## 1. Motivation\n",
    "In response to the question: For students without access to free public transportation, is it worthwhile to purchase and use a car for commuting to Delft"
   ]
  },
  {
   "cell_type": "markdown",
   "id": "53c38c7e",
   "metadata": {},
   "source": [
    "## 2. Objectives\n",
    "Attributes of cost and time per modality.\n",
    "Comparison of different aspects for these attributes, such as which option is more cost-effective, which option is more time efficient, at what distance or commuting threshold from Delft does train travel become a more advantageous alternative than car ownership?"
   ]
  },
  {
   "cell_type": "markdown",
   "id": "6311f502",
   "metadata": {},
   "source": [
    "## 3. Research Questions\n",
    "How do travel costs and travel times compare between private car use and train travel for trips from the main Dutch cities to Delft?\" (during weekday peakhours?)"
   ]
  },
  {
   "cell_type": "markdown",
   "id": "07b8d04c",
   "metadata": {},
   "source": [
    "## 4. Preconditions\n",
    "### Car Travel\n",
    "Cost factors > insurance average per city for 21years old driver, pump price, government road tax\n",
    "\n",
    "Time factors > Peak hours, 35% extra time on congestions, direct travel times through google maps (optimal travel road using highways only).\n",
    "\n",
    "### Train Travel\n",
    "Cost factors > 2nd class without any subscriptions, assumptions that everyone gets to the station by bicycle.\n",
    "\n",
    "Time factors > peak NS hours, direct travel time + disruptions, distance inbetween central train stations.\n",
    "\n",
    "### Other Preconditions\n",
    "One typical car model for students (i.e Toyota Aygo)"
   ]
  },
  {
   "cell_type": "markdown",
   "id": "08db06c8",
   "metadata": {},
   "source": [
    "## 5. Cities & Distances\n",
    "Highway Driving Distances to Delft\n",
    "\n",
    "Estimated highway driving distances (km) and typical motorway routes from major Dutch cities to Delft.\n",
    "\n",
    "| City                    | Distance (km) | Typical Highway Route                       |\n",
    "|-------------------------|---------------|---------------------------------------------|\n",
    "| Amsterdam               | 64            | A13 → A4 → A10                              |\n",
    "| Rotterdam               | 16            | A13                                         |\n",
    "| The Hague (Den Haag)    | 12            | A13 → A4                                    |\n",
    "| Utrecht                 | 60            | A12                                         |\n",
    "| Eindhoven               | 125           | A13 → A4/A12 → A2                           |\n",
    "| Tilburg                 | 95            | A13 → A16 → A59                             |\n",
    "| Almere                  | 97            | A13 → A4 → A10 → A1 → A6                    |\n",
    "| Groningen               | 235           | A13 → A4 → A10 → A7                         |\n",
    "| Breda                   | 68            | A13 → A16                                   |\n",
    "| Nijmegen                | 120           | A13 → A15 → A50                             |\n",
    "| Leeuwarden              | 200           | A13 → A4 → A10 → A7 → N31/A31               |\n",
    "| Maastricht              | 205           | A13 → A16 → A15 → A73 → A2                  |\n",
    "\n"
   ]
  },
  {
   "cell_type": "markdown",
   "id": "cc48524f",
   "metadata": {},
   "source": [
    "## 6. Datasets\n",
    "\n",
    "Train disruptions > https://www.rijdendetreinen.nl/en/open-data \n",
    "\n",
    "Pump price (from 2006, daily) > https://www.cbs.nl/nl-nl/cijfers/detail/80416ned\n",
    "\n",
    "NS routes and stations  > APIs: Details - NS API Developer Portal (https://apiportal.ns.nl/)\n",
    "\n",
    "**Other useful sources** :\n",
    "\n",
    "Government Road tax > Motorrijtuigenbelasting | Belastingdienst\n",
    "\n",
    "Insurance costs > https://www.geld.nl/autoverzekering/service/datamonitor-autoverzekering\n",
    "\n",
    "Time and Distance data > Google Maps\n",
    "\n",
    "Train Cost > ns.nl\n",
    "\n",
    "Distances between train stations > https://www.rijdendetreinen.nl/open-data/tariefafstanden\n",
    "\n"
   ]
  },
  {
   "cell_type": "markdown",
   "id": "7ffc9154",
   "metadata": {},
   "source": [
    "## 7. Data Analysis Pipeline\n",
    "### 1. Cars\n",
    "1.1 Read out travel time data from sheet to Delft per city (collected from google maps)\n",
    "\n",
    "1.2 Compute the correct travel time with delay to Delft per city\n",
    "\n",
    "1.3 Read out travel cost data from sheet (4 constant sheets and 1 variable for the benzine)\n",
    "\n",
    "1.4 Combine each city travel time to the corresponding city travel cost\n",
    "\n",
    "1.5 Plot the graph per city for car travel (cost vs time)\n",
    "\n",
    "### 2. Trains\n",
    "2.1 Read out travel time per train station to Delft from sheet\n",
    "\n",
    "2.2 Compute the correct travel time with delay to Delft per city\n",
    "\n",
    "2.3 Read out travel cost per train station to Delft \n",
    "\n",
    "2.4 Combine the corresponding travel time to cost per city\n",
    "\n",
    "2.5 Plot the graph per city for train travel\n",
    "\n",
    "\n",
    "### Comparison\n",
    "\n",
    "3. Create one general datasheet from all the different data sheets \n",
    "\n",
    "4. Compare the two datasets, which option is faster and/or cheaper per city?\n",
    "\n",
    "5. Try to express one variable as another, e.g. how does time translate into money and would that impact your choice?\n"
   ]
  },
  {
   "cell_type": "markdown",
   "id": "c1159a02",
   "metadata": {},
   "source": [
    "## 8. Geographical and Temporal Scale\n",
    "### Geographical scale\n",
    "This study focuses on trips to Delft originating from the twelve largest cities in the Netherlands, selected on the basis of population size.\n",
    "These cities included are Amsterdam, Rotterdam, The Hague, Utrecht, Eindhoven, Groningen, Tilburg, Almere, Breda, Nijmegen, Leeuwarden and Maastricht, chosen to ensure both representativeness of the Dutch urban system and geographical diversity across the country.\n",
    "\n",
    "### Temporal Scale\n",
    "The analysis focuses on on weekday midday peakhours (4pm-6pm) using 2024 data."
   ]
  }
 ],
 "metadata": {
  "kernelspec": {
   "display_name": "TIL6022-25",
   "language": "python",
   "name": "python3"
  },
  "language_info": {
   "codemirror_mode": {
    "name": "ipython",
    "version": 3
   },
   "file_extension": ".py",
   "mimetype": "text/x-python",
   "name": "python",
   "nbconvert_exporter": "python",
   "pygments_lexer": "ipython3",
   "version": "3.12.11"
  }
 },
 "nbformat": 4,
 "nbformat_minor": 5
}
