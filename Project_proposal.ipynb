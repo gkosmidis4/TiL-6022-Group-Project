{
 "cells": [
  {
   "cell_type": "markdown",
   "id": "268ef89e",
   "metadata": {},
   "source": [
    "# Car vs. Train Travel to Delft: Comparative Study"
   ]
  },
  {
   "cell_type": "markdown",
   "id": "98a59ee2",
   "metadata": {},
   "source": [
    "## 1. Motivation\n",
    "Will follow in final notebook"
   ]
  },
  {
   "cell_type": "markdown",
   "id": "53c38c7e",
   "metadata": {},
   "source": [
    "## 2. Objectives\n",
    "Text"
   ]
  },
  {
   "cell_type": "markdown",
   "id": "6311f502",
   "metadata": {},
   "source": [
    "## 3. Research Questions\n",
    "Text"
   ]
  },
  {
   "cell_type": "markdown",
   "id": "07b8d04c",
   "metadata": {},
   "source": [
    "## 4. Preconditions\n",
    "### Car Travel\n",
    "Text\n",
    "### Train Travel\n",
    "Text"
   ]
  },
  {
   "cell_type": "markdown",
   "id": "08db06c8",
   "metadata": {},
   "source": [
    "## 5. Cities & Distances\n",
    "Text or matrix"
   ]
  },
  {
   "cell_type": "markdown",
   "id": "cc48524f",
   "metadata": {},
   "source": [
    "## 6. Datasets\n",
    "Text"
   ]
  },
  {
   "cell_type": "markdown",
   "id": "7ffc9154",
   "metadata": {},
   "source": [
    "## 7. Data Analysis Pipeline\n",
    "### Cars\n",
    "List\n",
    "### Trains\n",
    "List\n",
    "### Comparison\n",
    "List"
   ]
  },
  {
   "cell_type": "markdown",
   "id": "c1159a02",
   "metadata": {},
   "source": [
    "## 8. Geographical and Temporal Scale\n",
    "Text"
   ]
  }
 ],
 "metadata": {
  "kernelspec": {
   "display_name": "TIL6022-25",
   "language": "python",
   "name": "python3"
  },
  "language_info": {
   "codemirror_mode": {
    "name": "ipython",
    "version": 3
   },
   "file_extension": ".py",
   "mimetype": "text/x-python",
   "name": "python",
   "nbconvert_exporter": "python",
   "pygments_lexer": "ipython3",
   "version": "3.12.11"
  }
 },
 "nbformat": 4,
 "nbformat_minor": 5
}
