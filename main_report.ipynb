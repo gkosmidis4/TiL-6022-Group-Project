{
 "cells": [
  {
   "cell_type": "markdown",
   "metadata": {},
   "source": [
    "# Car vs. Train Travel to Delft: Comparative Study\n",
    "TIL6022 – TIL Python Programming\n",
    "\n",
    "7 November 2025  \n",
    "\n",
    "\n",
    "\n",
    "### Project Group 7\n",
    "\n",
    "**Members**  \n",
    "- Julian van Heijningen — Student number: 5807328  \n",
    "- [Name 2] — Student number: [xxxxxxx]  \n",
    "- [Name 3] — Student number: [xxxxxxx]  \n",
    "- [Name 4] — Student number: [xxxxxxx]  \n",
    "- [Name 5] — Student number: [xxxxxxx]  \n",
    "- [Name 6] — Student number: [xxxxxxx]  "
   ]
  },
  {
   "cell_type": "markdown",
   "metadata": {},
   "source": [
    "&nbsp;"
   ]
  },
  {
   "cell_type": "markdown",
   "metadata": {},
   "source": [
    "## 1. Introduction"
   ]
  },
  {
   "cell_type": "markdown",
   "metadata": {},
   "source": [
    "short introduction"
   ]
  },
  {
   "cell_type": "markdown",
   "metadata": {},
   "source": [
    "### 1.1. Research Objectives"
   ]
  },
  {
   "cell_type": "markdown",
   "metadata": {},
   "source": [
    "This study aims to evaluate whether students without access to free public transportation would benefit from owning and using a car for commuting to Delft. Specifically, the objectives are to:\n",
    "\n",
    "- Quantify and compare the monthly costs of commuting by car versus train.\n",
    "- Assess and compare the travel times of these two modes of transport, including the effects of peak-hour conditions.\n",
    "- Identify the commuting threshold at which train travel becomes more cost-effective or time-efficient than car ownership.\n",
    "- Provide insights to support students in making informed commuting decisions.\n",
    "\n",
    "To address these objectives, the study focuses on the following research questions:\n",
    "\n",
    "**Main Research Question:**\n",
    "- How do travel costs and travel times compare between private car usage and train travel for commuting from major Dutch cities to Delft during weekday peak hours?\n",
    "\n",
    "**Sub-questions:**\n",
    "- What are the primary cost components associated with commuting by car and by train, and how do these compare on a monthly basis?\n",
    "- At which commuting distances or under which conditions does train travel become more cost-effective than car ownership?\n",
    "- How do travel times differ between car and train, considering peak-hour congestion, train schedules, delays, and service disruptions?\n",
    "- How do variations in fuel prices, road taxes, or train ticket prices affect the comparative outcomes?"
   ]
  },
  {
   "cell_type": "markdown",
   "metadata": {},
   "source": [
    "&nbsp;"
   ]
  },
  {
   "cell_type": "markdown",
   "metadata": {},
   "source": [
    "## 2. Data Used"
   ]
  },
  {
   "cell_type": "markdown",
   "metadata": {},
   "source": [
    "In this chapter..."
   ]
  },
  {
   "cell_type": "markdown",
   "metadata": {},
   "source": [
    "### 2.1. Car"
   ]
  },
  {
   "cell_type": "markdown",
   "metadata": {},
   "source": [
    "list of datasets used for car"
   ]
  },
  {
   "cell_type": "markdown",
   "metadata": {},
   "source": [
    "### 2.2. Train"
   ]
  },
  {
   "cell_type": "markdown",
   "metadata": {},
   "source": [
    "list of datasets used for train"
   ]
  },
  {
   "cell_type": "markdown",
   "metadata": {},
   "source": [
    "&nbsp;"
   ]
  },
  {
   "cell_type": "markdown",
   "metadata": {},
   "source": [
    "## 3. Data Pipeline"
   ]
  },
  {
   "cell_type": "markdown",
   "metadata": {},
   "source": [
    "In this chapter...."
   ]
  },
  {
   "cell_type": "markdown",
   "metadata": {},
   "source": [
    "&nbsp;"
   ]
  },
  {
   "cell_type": "markdown",
   "metadata": {},
   "source": [
    "## 4. Analysis"
   ]
  },
  {
   "cell_type": "markdown",
   "metadata": {},
   "source": [
    "compare figures etc."
   ]
  },
  {
   "cell_type": "markdown",
   "metadata": {},
   "source": [
    "&nbsp;"
   ]
  },
  {
   "cell_type": "markdown",
   "metadata": {},
   "source": [
    "## 5. Discussion"
   ]
  },
  {
   "cell_type": "markdown",
   "metadata": {},
   "source": [
    "discuss"
   ]
  },
  {
   "cell_type": "markdown",
   "metadata": {},
   "source": [
    "&nbsp;"
   ]
  },
  {
   "cell_type": "markdown",
   "metadata": {},
   "source": [
    "## 6. Conclusion"
   ]
  },
  {
   "cell_type": "markdown",
   "metadata": {},
   "source": [
    "car is better"
   ]
  },
  {
   "cell_type": "markdown",
   "metadata": {},
   "source": [
    "&nbsp;"
   ]
  },
  {
   "cell_type": "markdown",
   "metadata": {},
   "source": [
    "## 7. Contribution statement"
   ]
  },
  {
   "cell_type": "markdown",
   "metadata": {},
   "source": [
    "who did what"
   ]
  },
  {
   "cell_type": "markdown",
   "metadata": {},
   "source": [
    "&nbsp;"
   ]
  },
  {
   "cell_type": "markdown",
   "metadata": {},
   "source": [
    "## 8. References"
   ]
  },
  {
   "cell_type": "markdown",
   "metadata": {},
   "source": [
    "If we wanna list them we can do it here"
   ]
  }
 ],
 "metadata": {
  "kernelspec": {
   "display_name": "Python 3",
   "language": "python",
   "name": "python3"
  },
  "language_info": {
   "name": "python",
   "version": "3.8.2"
  },
  "orig_nbformat": 4,
  "vscode": {
   "interpreter": {
    "hash": "31f2aee4e71d21fbe5cf8b01ff0e069b9275f58929596ceb00d14d90e3e16cd6"
   }
  }
 },
 "nbformat": 4,
 "nbformat_minor": 2
}
