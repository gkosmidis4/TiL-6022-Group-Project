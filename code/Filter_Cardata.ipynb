{
 "cells": [
  {
   "cell_type": "code",
   "execution_count": 11,
   "id": "a5398320",
   "metadata": {},
   "outputs": [
    {
     "name": "stdout",
     "output_type": "stream",
     "text": [
      "✅ Done! Saved as 'data/DelftTravelData.csv'\n",
      "                                  City  Mean_Distance_to_Delft  \\\n",
      "Amsterdam Centraal  Amsterdam Centraal                   70.48   \n",
      "Rotterdam Centraal  Rotterdam Centraal                   12.54   \n",
      "Den Haag Centraal    Den Haag Centraal                   13.74   \n",
      "Utrecht Centraal      Utrecht Centraal                   65.67   \n",
      "Eindhoven Centraal  Eindhoven Centraal                  127.36   \n",
      "\n",
      "                    Mean_Time_to_Delft  \n",
      "Amsterdam Centraal                  59  \n",
      "Rotterdam Centraal                  19  \n",
      "Den Haag Centraal                   17  \n",
      "Utrecht Centraal                    53  \n",
      "Eindhoven Centraal                 102  \n"
     ]
    }
   ],
   "source": [
    "import pandas as pd\n",
    "import numpy as np\n",
    "\n",
    "distance = pd.read_csv(\"../data/CarDistance_matrix.csv\", index_col=0)\n",
    "time = pd.read_csv(\"../data/CarTime_matrix.csv\", index_col=0)\n",
    "\n",
    "ref_city = \"TU Delft Campus\"\n",
    "\n",
    "to_delft_dist = distance[ref_city]\n",
    "from_delft_dist = distance.loc[ref_city]\n",
    "\n",
    "time_to_delft = time[ref_city]\n",
    "time_from_delft = time.loc[ref_city]\n",
    "\n",
    "mean_distance = (to_delft_dist + from_delft_dist) / 2\n",
    "mean_time_seconds = (time_to_delft + time_from_delft) / 2\n",
    "\n",
    "mean_time_minutes = np.ceil(mean_time_seconds / 60)\n",
    "\n",
    "df = pd.DataFrame({\n",
    "    \"City\": distance.index,\n",
    "    \"Mean_Distance_to_Delft\": mean_distance.round(2),\n",
    "    \"Mean_Time_to_Delft\": mean_time_minutes.astype(int)\n",
    "})\n",
    "\n",
    "df = df[df[\"City\"] != ref_city]\n",
    "\n",
    "df.to_csv(\"../data/DelfttravelData.csv\", index=False)\n",
    "\n",
    "print(\"✅ Done! Saved as 'data/DelftTravelData.csv'\")\n",
    "print(df.head())"
   ]
  },
  {
   "cell_type": "code",
   "execution_count": 12,
   "id": "28638600",
   "metadata": {},
   "outputs": [
    {
     "name": "stdout",
     "output_type": "stream",
     "text": [
      "✅ Saved ../data/DelftTravelData_withCosts.csv\n",
      "⚠️ Cities missing one or more costs: []\n"
     ]
    }
   ],
   "source": [
    "import pandas as pd\n",
    "import re\n",
    "\n",
    "# --- Paths (adjust the first line if your file has a capital 'T') ---\n",
    "delft_path = \"../data/DelfttravelData.csv\"\n",
    "costs_path = \"../data/RoadTaxes_InsuranceCity_ParkingPermitCity.csv\"\n",
    "out_path   = \"../data/DelftTravelData_withCosts.csv\"\n",
    "\n",
    "# --- Load Delft base (the table you want to enrich) ---\n",
    "delft = pd.read_csv(delft_path)   # expects columns: City, Mean_Distance_to_Delft, Mean_Time_to_Delft\n",
    "\n",
    "# --- Load Costs (semicolon-separated; decimals look '.' in your screenshot) ---\n",
    "costs = (\n",
    "    pd.read_csv(costs_path, sep=\";\", engine=\"python\")\n",
    "      .dropna(how=\"all\", axis=0)\n",
    "      .dropna(how=\"all\", axis=1)\n",
    ")\n",
    "\n",
    "# --- Identify column names in costs robustly ---\n",
    "def find_col(cols, keywords, default_idx=None):\n",
    "    for c in cols:\n",
    "        cl = c.lower()\n",
    "        if any(k in cl for k in keywords):\n",
    "            return c\n",
    "    if default_idx is not None and default_idx < len(cols):\n",
    "        return cols[default_idx]\n",
    "    return None\n",
    "\n",
    "city_costs_col = find_col(costs.columns, [\"city\"], default_idx=0)\n",
    "roadtax_col    = find_col(costs.columns, [\"roadtax\", \"roadtaxes\", \"motor\", \"belasting\"], default_idx=1)\n",
    "ins_col        = find_col(costs.columns, [\"insurance\", \"verzek\"], default_idx=2)\n",
    "parking_col    = find_col(costs.columns, [\"parking\", \"permit\", \"parkeer\", \"vergunning\"], default_idx=3)\n",
    "\n",
    "rename_map = {}\n",
    "if city_costs_col: rename_map[city_costs_col] = \"City_costs\"\n",
    "if roadtax_col:    rename_map[roadtax_col]    = \"Roadtax_eur_per_month\"\n",
    "if ins_col:        rename_map[ins_col]        = \"Insurance_eur_per_month\"\n",
    "if parking_col:    rename_map[parking_col]    = \"ParkingPermit_eur_per_month\"\n",
    "\n",
    "costs = costs.rename(columns=rename_map)\n",
    "\n",
    "# --- Clean city names for matching ---\n",
    "def clean_city(s: pd.Series) -> pd.Series:\n",
    "    s = s.astype(str).str.lower().str.strip()\n",
    "    s = s.str.replace(r\"\\b(centraal|central|centrum|station)\\b\", \"\", regex=True)  # remove suffixes\n",
    "    s = s.str.replace(r\"^gemeente\\s+\", \"\", regex=True)                             # drop 'gemeente' prefix\n",
    "    s = s.str.replace(r\"[’'`]\", \"\", regex=True)                                    # normalize quotes\n",
    "    s = s.str.replace(r\"\\s+\", \" \", regex=True).str.strip()\n",
    "    return s\n",
    "\n",
    "manual_map = {\n",
    "    # add special cases here if needed, e.g.:\n",
    "    # \"s hertogenbosch\": \"den bosch\",\n",
    "    # \"the hague\": \"den haag\",  # if the other file uses English\n",
    "}\n",
    "\n",
    "def apply_map(s: pd.Series) -> pd.Series:\n",
    "    return s.replace(manual_map)\n",
    "\n",
    "delft[\"City_clean\"] = apply_map(clean_city(delft[\"City\"]))\n",
    "costs[\"City_clean\"] = apply_map(clean_city(costs[\"City_costs\"]))\n",
    "\n",
    "# De-duplicate costs by cleaned name to avoid row multiplication\n",
    "costs = costs.drop_duplicates(subset=\"City_clean\", keep=\"first\")\n",
    "\n",
    "# --- Select only the columns we want to bring over ---\n",
    "bring = [\"City_clean\"]\n",
    "for c in [\"Roadtax_eur_per_month\", \"Insurance_eur_per_month\", \"ParkingPermit_eur_per_month\"]:\n",
    "    if c in costs.columns: bring.append(c)\n",
    "\n",
    "# --- Merge (LEFT) and tidy ---\n",
    "merged = delft.merge(costs[bring], on=\"City_clean\", how=\"left\").drop(columns=[\"City_clean\"])\n",
    "\n",
    "# Ensure numeric types (if any are strings)\n",
    "for col in [\"Roadtax_eur_per_month\", \"Insurance_eur_per_month\", \"ParkingPermit_eur_per_month\"]:\n",
    "    if col in merged.columns:\n",
    "        merged[col] = pd.to_numeric(merged[col], errors=\"coerce\")\n",
    "\n",
    "# Order columns nicely\n",
    "front = [\"City\", \"Mean_Distance_to_Delft\", \"Mean_Time_to_Delft\"]\n",
    "cost_cols = [c for c in [\"Roadtax_eur_per_month\", \"Insurance_eur_per_month\", \"ParkingPermit_eur_per_month\"] if c in merged.columns]\n",
    "others = [c for c in merged.columns if c not in front + cost_cols]\n",
    "merged = merged[front + cost_cols + others]\n",
    "\n",
    "# --- Save ---\n",
    "merged.to_csv(out_path, index=False)\n",
    "print(f\"✅ Saved {out_path}\")\n",
    "\n",
    "# --- Report any cities that missed a match (so you can add to manual_map if needed) ---\n",
    "missing = merged.loc[\n",
    "    merged[cost_cols].isna().any(axis=1) if cost_cols else [False]*len(merged),\n",
    "    \"City\"\n",
    "].unique()\n",
    "print(\"⚠️ Cities missing one or more costs:\", missing)\n"
   ]
  },
  {
   "cell_type": "code",
   "execution_count": 13,
   "id": "e1925ed4",
   "metadata": {},
   "outputs": [
    {
     "name": "stdout",
     "output_type": "stream",
     "text": [
      "current folder: c:\\Users\\jjwva\\OneDrive - Delft University of Technology\\Documenten\\GitHub\\TiL-6022-Group-Project\\code\n",
      "True\n"
     ]
    }
   ],
   "source": [
    "import os\n",
    "print(\"current folder:\", os.getcwd())\n",
    "print(os.path.exists(\"../data/Pompprijzen_motorbrandstoffen__brandstofsoort__per_dag_06102025_122232.csv\"))\n",
    "\n"
   ]
  },
  {
   "cell_type": "code",
   "execution_count": 14,
   "id": "5ee29467",
   "metadata": {},
   "outputs": [
    {
     "name": "stdout",
     "output_type": "stream",
     "text": [
      "✅ Saved: ../data/Avg_PumpPrice_Monthly.csv\n",
      "                 Benzine Euro95 (€/L)\n",
      "Monthly Average                  1.88\n"
     ]
    }
   ],
   "source": [
    "#FILTERING THE PUMP PRICE DATA AND RETURNING 1 AVERAGE PRICE FOR SEPTEMBER 2024\n",
    "\n",
    "import pandas as pd\n",
    "\n",
    "# --- FILE PATH ---\n",
    "path = \"../data/Pompprijzen_motorbrandstoffen__brandstofsoort__per_dag_06102025_122232.csv\"\n",
    "\n",
    "# The file has:\n",
    "# 0: title line\n",
    "# 1: empty line (\"\"), \n",
    "# 2: '\"\";\"Onderwerp\"'\n",
    "# 3: '\"\";\"Benzine Euro95\";\"Diesel\";\"Lpg\"'\n",
    "# 4: '\"Perioden\";\"euro/liter\";\"euro/liter\";\"euro/liter\"'\n",
    "# Data starts at line 5 → so skiprows=5 and provide column names ourselves.\n",
    "names = [\"Perioden\", \"Benzine Euro95\", \"Diesel\", \"Lpg\"]\n",
    "\n",
    "df = pd.read_csv(\n",
    "    path,\n",
    "    sep=\";\",\n",
    "    quotechar='\"',\n",
    "    skiprows=5,\n",
    "    names=names,\n",
    "    engine=\"python\",\n",
    "    dtype=str\n",
    ")\n",
    "\n",
    "# Drop footer like \"Bron: ...\"\n",
    "df = df[df[\"Perioden\"].str.contains(r\"\\d{4}\", na=False)]\n",
    "\n",
    "# Convert European comma decimals to floats\n",
    "for col in [\"Benzine Euro95\", \"Diesel\", \"Lpg\"]:\n",
    "    df[col] = df[col].str.replace(\",\", \".\", regex=False).astype(float)\n",
    "\n",
    "# ----- CHOOSE THE FUEL TO AVERAGE -----\n",
    "fuel_col = \"Benzine Euro95\"   # change to \"Diesel\" or \"Lpg\" if you prefer\n",
    "\n",
    "# Compute monthly average (one value)\n",
    "monthly_avg = round(df[fuel_col].mean(), 3)\n",
    "\n",
    "# Save as a 1x1 CSV (same style as before)\n",
    "out = pd.DataFrame([[monthly_avg]], columns=[f\"{fuel_col} (€/L)\"], index=[\"Monthly Average\"])\n",
    "out.to_csv(\"../data/Avg_PumpPrice_Monthly.csv\")\n",
    "\n",
    "print(\"✅ Saved: ../data/Avg_PumpPrice_Monthly.csv\")\n",
    "print(out)"
   ]
  },
  {
   "cell_type": "code",
   "execution_count": 36,
   "id": "9074e471",
   "metadata": {},
   "outputs": [
    {
     "data": {
      "image/png": "[encoded data removed]",
      "text/plain": [
       "<Figure size 640x480 with 1 Axes>"
      ]
     },
     "metadata": {},
     "output_type": "display_data"
    }
   ],
   "source": [
    "import matplotlib.pyplot as plt\n",
    "days = range(1, len(df) + 1)\n",
    "\n",
    "plt.plot(days, df[fuel_col], marker='o', label='Euro95')\n",
    "plt.axhline(y=monthly_avg, color='r', linestyle='--', label='Monthly Average')\n",
    "plt.legend()\n",
    "plt.title(f'Daily Petrol Prices in September 2024')\n",
    "plt.xlabel('Day')\n",
    "plt.ylabel('Price (€/L)');\n",
    "plt.grid()\n",
    "plt.savefig('../figures/PetrolPrices_Sept2024.png')"
   ]
  },
  {
   "cell_type": "code",
   "execution_count": null,
   "id": "f41fb7ca",
   "metadata": {},
   "outputs": [],
   "source": []
  }
 ],
 "metadata": {
  "kernelspec": {
   "display_name": "base",
   "language": "python",
   "name": "python3"
  },
  "language_info": {
   "codemirror_mode": {
    "name": "ipython",
    "version": 3
   },
   "file_extension": ".py",
   "mimetype": "text/x-python",
   "name": "python",
   "nbconvert_exporter": "python",
   "pygments_lexer": "ipython3",
   "version": "3.12.3"
  }
 },
 "nbformat": 4,
 "nbformat_minor": 5
}
